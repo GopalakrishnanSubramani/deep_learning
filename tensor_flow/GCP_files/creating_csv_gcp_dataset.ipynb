{
 "cells": [
  {
   "cell_type": "markdown",
   "metadata": {},
   "source": [
    "#https://cloud.google.com/vision"
   ]
  },
  {
   "cell_type": "code",
   "execution_count": 1,
   "metadata": {},
   "outputs": [],
   "source": [
    "import os\n",
    "import pandas as pd"
   ]
  },
  {
   "cell_type": "code",
   "execution_count": 2,
   "metadata": {},
   "outputs": [
    {
     "data": {
      "text/plain": [
       "['cat', 'dog']"
      ]
     },
     "execution_count": 2,
     "metadata": {},
     "output_type": "execute_result"
    }
   ],
   "source": [
    "# hardcoded\n",
    "data_folders = ['cat','dog']\n",
    "data_folders"
   ]
  },
  {
   "cell_type": "code",
   "execution_count": 5,
   "metadata": {},
   "outputs": [
    {
     "name": "stdout",
     "output_type": "stream",
     "text": [
      "cat.1526.jpg\n",
      "dog.1504.jpg\n"
     ]
    },
    {
     "data": {
      "text/plain": [
       "[50, 50]"
      ]
     },
     "execution_count": 5,
     "metadata": {},
     "output_type": "execute_result"
    }
   ],
   "source": [
    "folder = '/home/sandbox-2/Documents/Gopal_office_file/dog_vs_cat_gcp_dataset/'\n",
    "filenames = [os.listdir(os.path.join(folder,f)) for f in data_folders]\n",
    "[print(f[1]) for f in filenames]\n",
    "[len(f) for f in filenames]"
   ]
  },
  {
   "cell_type": "code",
   "execution_count": null,
   "metadata": {},
   "outputs": [],
   "source": [
    "files_dict = dict(zip(data_folders, filenames))\n",
    "files_dict"
   ]
  },
  {
   "cell_type": "code",
   "execution_count": 18,
   "metadata": {},
   "outputs": [],
   "source": [
    "base_gcs_path = 'gs://dogcat-custom-dataset/cats_and_dogs_small.zip/'"
   ]
  },
  {
   "cell_type": "code",
   "execution_count": 19,
   "metadata": {},
   "outputs": [],
   "source": [
    "data_array = []\n",
    "\n",
    "for (dict_key, files_list) in files_dict.items():\n",
    "    for filename in files_list:\n",
    "#         print(base_gcs_path + dict_key + '/' + filename)\n",
    "        if '.jpg' not in filename: \n",
    "            continue # don't include non-photos\n",
    "\n",
    "        label = dict_key\n",
    "#         label = 'chair' if 'chair' in dict_key else dict_key # for grouping all chairs as one label\n",
    "        \n",
    "        data_array.append((base_gcs_path + dict_key + '/' + filename , label))"
   ]
  },
  {
   "cell_type": "code",
   "execution_count": null,
   "metadata": {},
   "outputs": [],
   "source": [
    "data_array"
   ]
  },
  {
   "cell_type": "code",
   "execution_count": 21,
   "metadata": {},
   "outputs": [],
   "source": [
    "dataframe = pd.DataFrame(data_array)"
   ]
  },
  {
   "cell_type": "code",
   "execution_count": null,
   "metadata": {},
   "outputs": [],
   "source": [
    "dataframe"
   ]
  },
  {
   "cell_type": "code",
   "execution_count": 23,
   "metadata": {},
   "outputs": [],
   "source": [
    "dataframe.to_csv('all_data.csv', index=False, header=False)"
   ]
  }
 ],
 "metadata": {
  "kernelspec": {
   "display_name": "Python 3.6.13 ('dl')",
   "language": "python",
   "name": "python3"
  },
  "language_info": {
   "codemirror_mode": {
    "name": "ipython",
    "version": 3
   },
   "file_extension": ".py",
   "mimetype": "text/x-python",
   "name": "python",
   "nbconvert_exporter": "python",
   "pygments_lexer": "ipython3",
   "version": "3.6.13"
  },
  "orig_nbformat": 4,
  "vscode": {
   "interpreter": {
    "hash": "81ecab893dd4a35f3f9bb099b8f1434b87b41985c6b58dc70d26b2c1f3b85889"
   }
  }
 },
 "nbformat": 4,
 "nbformat_minor": 2
}
